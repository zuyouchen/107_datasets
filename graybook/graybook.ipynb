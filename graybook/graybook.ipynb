{
 "cells": [
  {
   "cell_type": "code",
   "execution_count": 1,
   "metadata": {},
   "outputs": [],
   "source": [
    "import pandas as pd \n",
    "\n",
    "college_dict = {'KL': 'Agr, Consumer & Env Sciences', \n",
    "                'KY': 'Applied Health Sciences',\n",
    "                'LD' : 'Armed Forces',\n",
    "                'NQ' : 'Auxiliary Units',\n",
    "                'LT' : 'Carle Illinois Medicine',\n",
    "                'LN' : 'Center Innov in Teach Learn',\n",
    "                'NA' : 'Chancellor',\n",
    "                'KT' : 'College of Media',\n",
    "                'NU' : 'Div Intercollegiate Athletics',\n",
    "                'KW' : 'Division of General Studies',\n",
    "                'KN' : 'Education',\n",
    "                'MY' : 'Energy Services',\n",
    "                'NN' : 'Facilities',\n",
    "                'KR' : 'Fine & Applied Arts',\n",
    "                'KM' : 'Gies College of Business',\n",
    "                'KS' : 'Graduate College',\n",
    "                'KP' : 'Grainger Engineering',\n",
    "                'LQ' : 'Illinois International',\n",
    "                'KU' : 'Law',\n",
    "                'KV' : 'Liberal Arts & Sciences',\n",
    "                'LB' : 'Medicine at UIUC',\n",
    "                'NP' : 'OVCRI Institutes',\n",
    "                'NS' : 'Ofc VC Inst Advancement',\n",
    "                'NB' : 'Provost & VC Acad Affairs',\n",
    "                'LF' : 'Public Safety',\n",
    "                'LP' : 'School of Information Sciences',\n",
    "                'LG' : 'School of Labor & Empl. Rel.',\n",
    "                'LL' : 'School of Social Work',\n",
    "                'NT' : 'Technology Services',\n",
    "                'LR' : 'University Library',\n",
    "                'NL' : 'VC Admin and Operations',\n",
    "                'NJ' : 'VC Student Affairs',\n",
    "                'NE' : 'VC for Research and Innovation',\n",
    "                'LC' : 'Veterinary Medicine',\n",
    "                'NV' : 'Vice Chancellor for Diversity'}"
   ]
  },
  {
   "cell_type": "code",
   "execution_count": 2,
   "metadata": {},
   "outputs": [
    {
     "data": {
      "text/plain": [
       "['https://www.trustees.uillinois.edu/trustees/resources/22-23-Graybook/KL.html',\n",
       " 'https://www.trustees.uillinois.edu/trustees/resources/22-23-Graybook/KY.html',\n",
       " 'https://www.trustees.uillinois.edu/trustees/resources/22-23-Graybook/LD.html',\n",
       " 'https://www.trustees.uillinois.edu/trustees/resources/22-23-Graybook/NQ.html',\n",
       " 'https://www.trustees.uillinois.edu/trustees/resources/22-23-Graybook/LT.html',\n",
       " 'https://www.trustees.uillinois.edu/trustees/resources/22-23-Graybook/LN.html',\n",
       " 'https://www.trustees.uillinois.edu/trustees/resources/22-23-Graybook/NA.html',\n",
       " 'https://www.trustees.uillinois.edu/trustees/resources/22-23-Graybook/KT.html',\n",
       " 'https://www.trustees.uillinois.edu/trustees/resources/22-23-Graybook/NU.html',\n",
       " 'https://www.trustees.uillinois.edu/trustees/resources/22-23-Graybook/KW.html',\n",
       " 'https://www.trustees.uillinois.edu/trustees/resources/22-23-Graybook/KN.html',\n",
       " 'https://www.trustees.uillinois.edu/trustees/resources/22-23-Graybook/MY.html',\n",
       " 'https://www.trustees.uillinois.edu/trustees/resources/22-23-Graybook/NN.html',\n",
       " 'https://www.trustees.uillinois.edu/trustees/resources/22-23-Graybook/KR.html',\n",
       " 'https://www.trustees.uillinois.edu/trustees/resources/22-23-Graybook/KM.html',\n",
       " 'https://www.trustees.uillinois.edu/trustees/resources/22-23-Graybook/KS.html',\n",
       " 'https://www.trustees.uillinois.edu/trustees/resources/22-23-Graybook/KP.html',\n",
       " 'https://www.trustees.uillinois.edu/trustees/resources/22-23-Graybook/LQ.html',\n",
       " 'https://www.trustees.uillinois.edu/trustees/resources/22-23-Graybook/KU.html',\n",
       " 'https://www.trustees.uillinois.edu/trustees/resources/22-23-Graybook/KV.html',\n",
       " 'https://www.trustees.uillinois.edu/trustees/resources/22-23-Graybook/LB.html',\n",
       " 'https://www.trustees.uillinois.edu/trustees/resources/22-23-Graybook/NP.html',\n",
       " 'https://www.trustees.uillinois.edu/trustees/resources/22-23-Graybook/NS.html',\n",
       " 'https://www.trustees.uillinois.edu/trustees/resources/22-23-Graybook/NB.html',\n",
       " 'https://www.trustees.uillinois.edu/trustees/resources/22-23-Graybook/LF.html',\n",
       " 'https://www.trustees.uillinois.edu/trustees/resources/22-23-Graybook/LP.html',\n",
       " 'https://www.trustees.uillinois.edu/trustees/resources/22-23-Graybook/LG.html',\n",
       " 'https://www.trustees.uillinois.edu/trustees/resources/22-23-Graybook/LL.html',\n",
       " 'https://www.trustees.uillinois.edu/trustees/resources/22-23-Graybook/NT.html',\n",
       " 'https://www.trustees.uillinois.edu/trustees/resources/22-23-Graybook/LR.html',\n",
       " 'https://www.trustees.uillinois.edu/trustees/resources/22-23-Graybook/NL.html',\n",
       " 'https://www.trustees.uillinois.edu/trustees/resources/22-23-Graybook/NJ.html',\n",
       " 'https://www.trustees.uillinois.edu/trustees/resources/22-23-Graybook/NE.html',\n",
       " 'https://www.trustees.uillinois.edu/trustees/resources/22-23-Graybook/LC.html',\n",
       " 'https://www.trustees.uillinois.edu/trustees/resources/22-23-Graybook/NV.html']"
      ]
     },
     "execution_count": 2,
     "metadata": {},
     "output_type": "execute_result"
    }
   ],
   "source": [
    "urlList = []\n",
    "for collegeCode in college_dict.keys():\n",
    "    urlList.append(f\"https://www.trustees.uillinois.edu/trustees/resources/22-23-Graybook/{collegeCode}.html\")    \n",
    "\n",
    "urlList"
   ]
  },
  {
   "cell_type": "code",
   "execution_count": 3,
   "metadata": {},
   "outputs": [
    {
     "name": "stdout",
     "output_type": "stream",
     "text": [
      "['348 - ACES Technology Services', '521 - ADM Institute for PHL', '342 - Ag Ldrshp Educ Comm Program', '470 - Agr & Consumer Economics', '483 - Agr, Consumer & Env Sci Admn', '741 - Agricultural & Biological Engr', '538 - Animal Sciences', '384 - Cooperative Extension', '802 - Crop Sciences', '698 - Food Science & Human Nutrition', '793 - Human Dvlpmt & Family Studies', '875 - Natural Res & Env Sci', '971 - Nutritional Sciences']\n"
     ]
    }
   ],
   "source": [
    "from bs4 import BeautifulSoup\n",
    "import requests\n",
    "\n",
    "def getDepts(url):\n",
    "    depts_list = []\n",
    "    response = requests.get(url)\n",
    "    soup = BeautifulSoup(response.text, \"html.parser\")\n",
    "    headings = soup.find_all(\"h3\")\n",
    "    for h in headings:\n",
    "        if len(h.text.split('-')) == 2:\n",
    "            depts_list.append(h.text)\n",
    "        # this prevents tuple unpacking erros in the later loop, need to consider cleaning this later. \n",
    "        else:\n",
    "            depts_list.append('N/A - N/A')\n",
    "    return depts_list\n",
    "\n",
    "print(getDepts(\"https://www.trustees.uillinois.edu/trustees/resources/22-23-Graybook/KL.html\"))"
   ]
  },
  {
   "cell_type": "code",
   "execution_count": 4,
   "metadata": {},
   "outputs": [],
   "source": [
    "dfs = []\n",
    "\n",
    "x = pd.read_html(urlList[0])\n",
    "for url in urlList:\n",
    "  college_code = url[69:-5]\n",
    "  x = pd.read_html(url)\n",
    "  num_tables = len(x)\n",
    "  departments_list = getDepts(url)\n",
    "  for i in range(num_tables):\n",
    "    df_dept = x[i]\n",
    "    dept = departments_list[i]\n",
    "    dept_code, dept_name = dept.split('-')\n",
    "    df_dept['College Code'] = college_code\n",
    "    df_dept['College Name'] = college_dict[college_code]\n",
    "    df_dept['Department Code'] = dept_code.strip()\n",
    "    df_dept['Department Name'] = dept_name.strip()\n",
    "    dfs.append(df_dept)\n",
    "\n",
    "df = pd.concat(dfs)\n",
    "df = df.reset_index(drop=True)"
   ]
  },
  {
   "cell_type": "code",
   "execution_count": 5,
   "metadata": {},
   "outputs": [],
   "source": [
    "df.to_csv(\"graybook-sp23.csv\")"
   ]
  },
  {
   "cell_type": "code",
   "execution_count": null,
   "metadata": {},
   "outputs": [],
   "source": []
  }
 ],
 "metadata": {
  "kernelspec": {
   "display_name": "Python 3",
   "language": "python",
   "name": "python3"
  },
  "language_info": {
   "codemirror_mode": {
    "name": "ipython",
    "version": 3
   },
   "file_extension": ".py",
   "mimetype": "text/x-python",
   "name": "python",
   "nbconvert_exporter": "python",
   "pygments_lexer": "ipython3",
   "version": "3.10.9"
  },
  "orig_nbformat": 4,
  "vscode": {
   "interpreter": {
    "hash": "f48b0ea9e8281b29b1f9b6045fc5406bb9891af892053a27454c097f6ae51d2c"
   }
  }
 },
 "nbformat": 4,
 "nbformat_minor": 2
}
